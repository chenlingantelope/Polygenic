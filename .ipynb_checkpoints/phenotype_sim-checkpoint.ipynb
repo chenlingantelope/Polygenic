{
 "metadata": {
  "name": ""
 },
 "nbformat": 3,
 "nbformat_minor": 0,
 "worksheets": [
  {
   "cells": [
    {
     "cell_type": "code",
     "collapsed": false,
     "input": [
      "from __future__ import print_function\n",
      "#from __builtin__ import type\n",
      "#Import fwdpy.  Give it a shorter name\n",
      "import fwdpy as fp\n",
      "##Other libs we need\n",
      "import numpy as np\n",
      "import pandas\n",
      "import math\n",
      "import os\n",
      "import time\n",
      "import matplotlib.pyplot as plt\n",
      "# This is a bit of magic to make matplotlib figures appear inline in the notebook\n",
      "# rather than in a new window.\n",
      "%matplotlib inline\n",
      "plt.rcParams['figure.figsize'] = (10.0, 8.0) # set default size of plots\n",
      "plt.rcParams['image.interpolation'] = 'nearest'\n",
      "plt.rcParams['image.cmap'] = 'gray'"
     ],
     "language": "python",
     "metadata": {},
     "outputs": [],
     "prompt_number": 1
    },
    {
     "cell_type": "code",
     "collapsed": false,
     "input": [
      "nregions = [fp.Region(0,1,1,True)]\n",
      "sregions = [fp.ConstantS(0.2,0.201,1,0.001,True),\n",
      "            fp.ConstantS(0.4,0.401,1,0.001,True),\n",
      "            fp.ConstantS(0.6,0.601,1,0.001,True),\n",
      "            fp.ConstantS(0.8,0.801,1,0.001,True),]\n",
      "recregions = [fp.Region(0,1,10),\n",
      "              fp.Region(0.1,0,0.11,1000),\n",
      "              fp.Region(0.3,0,0.31,1000),\n",
      "              fp.Region(0.5,0,0.51,1000),\n",
      "              fp.Region(0.7,0,0.71,1000),]"
     ],
     "language": "python",
     "metadata": {},
     "outputs": [],
     "prompt_number": 118
    },
    {
     "cell_type": "code",
     "collapsed": false,
     "input": [
      "#evolve the population for 1 generations\n",
      "start = time.time()\n",
      "N=10000\n",
      "rng = fp.GSLrng(101)\n",
      "nlist = np.array([N]*10,dtype=np.uint32)\n",
      "pops = fp.evolve_regions(rng,       #The random number generator\n",
      "                         1,         #The number of pops to simulate = number of threads to use.\n",
      "                         N,         #Initial population size for each of the 4 demes\n",
      "                         nlist[0:], #List of population sizes over time.\n",
      "                         0.01,     #Neutral mutation rate (per gamete, per generation)\n",
      "                         0.01,      #Deleterious mutation rate (per gamete, per generation)\n",
      "                         0.01,     #Recombination rate (per diploid, per generation)\n",
      "                         nregions,  #Defined above\n",
      "                         sregions,  #Defined above\n",
      "                         recregions,\n",
      "                         track=True)#Defined above\n",
      "print(time.time()-start)"
     ],
     "language": "python",
     "metadata": {},
     "outputs": [
      {
       "output_type": "stream",
       "stream": "stdout",
       "text": [
        "0.0377428531647\n"
       ]
      }
     ],
     "prompt_number": 125
    },
    {
     "cell_type": "code",
     "collapsed": false,
     "input": [
      "start = time.time()\n",
      "samples = fp.get_samples(rng,pops[0],100,True)\n",
      "name=\"sites\"\n",
      "f=open(name,\"w\")\n",
      "for i in range(2):\n",
      "    for site in range(len(samples[i])):\n",
      "        line=[str(samples[i][site][0])]+list(samples[i][site][1])\n",
      "        line=','.join(line)\n",
      "        print(line,file=f)\n",
      "f.close()\n",
      "print(time.time()-start)\n"
     ],
     "language": "python",
     "metadata": {},
     "outputs": [
      {
       "output_type": "stream",
       "stream": "stdout",
       "text": [
        "0.000828981399536\n"
       ]
      }
     ],
     "prompt_number": 126
    },
    {
     "cell_type": "code",
     "collapsed": false,
     "input": [
      "start = time.time()\n",
      "sites=pandas.read_csv(name,header=None)\n",
      "colnames=['pos']\n",
      "detail0=fp.get_sample_details(samples[0],pops[0])\n",
      "detail1=fp.get_sample_details(samples[1],pops[0])\n",
      "detail=pandas.concat([detail0,detail1])\n",
      "for x in range(len(samples[0][0][1])):\n",
      "    colnames.append(str(x))\n",
      "sites.columns=colnames\n",
      "sel=pandas.concat([detail['a'],detail['s']],axis=1)\n",
      "sel.index=sites.index\n",
      "selsites=pandas.concat([sel,sites],axis=1)\n",
      "selsites=selsites.sort_values(by='pos',ascending=1)\n",
      "print(time.time()-start)"
     ],
     "language": "python",
     "metadata": {},
     "outputs": [
      {
       "output_type": "stream",
       "stream": "stdout",
       "text": [
        "0.0151789188385\n"
       ]
      }
     ],
     "prompt_number": 127
    },
    {
     "cell_type": "code",
     "collapsed": false,
     "input": [
      "print(selsites[selsites['s']>0].shape)\n",
      "print(selsites[selsites['s']==0].shape)\n",
      "selsites[selsites['s']>0].ix[:,'0':].sum(1)\n",
      "print(selsites[selsites['s']>0])\n",
      "print(selsites[selsites['s']==0].head)"
     ],
     "language": "python",
     "metadata": {},
     "outputs": [
      {
       "output_type": "stream",
       "stream": "stdout",
       "text": [
        "(15, 103)\n",
        "(10, 103)\n",
        "     a      s       pos  0  1  2  3  4  5  6 ...  90  91  92  93  94  95  96  \\\n",
        "10   8  0.001  0.200148  0  0  0  0  0  0  0 ...   0   0   0   0   0   0   0   \n",
        "11  10  0.001  0.200741  0  0  0  0  0  0  0 ...   0   0   0   0   0   0   0   \n",
        "12  10  0.001  0.200998  0  0  0  0  0  0  0 ...   0   0   0   0   0   0   0   \n",
        "13  10  0.001  0.400334  0  0  0  0  0  0  0 ...   0   0   0   0   0   0   0   \n",
        "14   7  0.001  0.400364  0  0  0  0  0  0  0 ...   0   0   1   0   0   0   0   \n",
        "15   1  0.001  0.400664  0  0  0  0  0  0  0 ...   0   0   0   0   0   0   0   \n",
        "16  10  0.001  0.600004  0  0  0  0  0  0  0 ...   0   0   0   0   0   0   0   \n",
        "17  10  0.001  0.600243  0  0  0  1  0  0  0 ...   0   0   0   0   0   0   0   \n",
        "18   9  0.001  0.600248  0  0  0  0  0  0  0 ...   0   0   0   0   0   0   0   \n",
        "19   4  0.001  0.600250  0  0  0  0  0  0  0 ...   0   0   0   0   0   0   0   \n",
        "20   7  0.001  0.600288  0  0  0  0  0  0  0 ...   0   0   0   0   0   0   0   \n",
        "21   6  0.001  0.600815  0  0  0  0  0  0  0 ...   0   0   0   0   1   0   0   \n",
        "22   1  0.001  0.600874  0  0  0  0  0  0  0 ...   0   0   0   0   0   0   0   \n",
        "23   5  0.001  0.800001  1  0  0  0  0  0  0 ...   0   0   0   0   0   0   0   \n",
        "24   4  0.001  0.800689  0  0  0  0  0  0  0 ...   0   0   0   0   0   0   0   \n",
        "\n",
        "    97  98  99  \n",
        "10   0   0   0  \n",
        "11   0   0   0  \n",
        "12   0   0   0  \n",
        "13   0   0   0  \n",
        "14   0   0   0  \n",
        "15   0   0   0  \n",
        "16   0   0   0  \n",
        "17   0   0   0  \n",
        "18   0   0   0  \n",
        "19   0   0   0  \n",
        "20   0   0   0  \n",
        "21   0   0   0  \n",
        "22   0   0   0  \n",
        "23   0   0   0  \n",
        "24   0   0   0  \n",
        "\n",
        "[15 rows x 103 columns]\n",
        "<bound method DataFrame.head of    a  s       pos  0  1  2  3  4  5  6 ...  90  91  92  93  94  95  96  97  \\\n",
        "0  1  0  0.113560  0  0  0  0  0  0  0 ...   0   0   0   0   0   0   0   0   \n",
        "1  3  0  0.142584  0  0  0  0  0  0  0 ...   0   0   0   0   0   0   0   0   \n",
        "2  4  0  0.179578  0  0  0  0  0  0  0 ...   0   0   0   0   0   0   0   0   \n",
        "3  6  0  0.355579  0  0  0  0  0  0  0 ...   0   0   0   0   0   0   0   0   \n",
        "4  3  0  0.637941  0  0  0  0  0  0  0 ...   0   0   0   0   0   0   0   0   \n",
        "5  7  0  0.661101  0  0  0  0  0  0  0 ...   0   0   0   0   0   0   0   0   \n",
        "6  8  0  0.809774  0  0  0  0  0  0  0 ...   0   0   0   0   0   0   0   0   \n",
        "7  1  0  0.897497  0  0  0  0  0  0  0 ...   0   0   0   0   0   0   0   0   \n",
        "8  1  0  0.924686  0  0  0  0  0  0  1 ...   0   0   0   0   0   0   0   0   \n",
        "9  4  0  0.943210  0  0  0  0  0  0  0 ...   0   0   0   0   0   0   0   0   \n",
        "\n",
        "   98  99  \n",
        "0   0   0  \n",
        "1   0   0  \n",
        "2   0   0  \n",
        "3   0   0  \n",
        "4   0   0  \n",
        "5   0   0  \n",
        "6   0   0  \n",
        "7   0   0  \n",
        "8   0   0  \n",
        "9   0   0  \n",
        "\n",
        "[10 rows x 103 columns]>\n"
       ]
      }
     ],
     "prompt_number": 128
    },
    {
     "cell_type": "code",
     "collapsed": false,
     "input": [
      "selsites.columns"
     ],
     "language": "python",
     "metadata": {},
     "outputs": [
      {
       "metadata": {},
       "output_type": "pyout",
       "prompt_number": 76,
       "text": [
        "Index([u'a', u's', u'pos', u'0', u'1', u'2', u'3', u'4', u'5', u'6',\n",
        "       ...\n",
        "       u'90', u'91', u'92', u'93', u'94', u'95', u'96', u'97', u'98', u'99'],\n",
        "      dtype='object', length=103)"
       ]
      }
     ],
     "prompt_number": 76
    },
    {
     "cell_type": "code",
     "collapsed": false,
     "input": [],
     "language": "python",
     "metadata": {},
     "outputs": []
    }
   ],
   "metadata": {}
  }
 ]
}